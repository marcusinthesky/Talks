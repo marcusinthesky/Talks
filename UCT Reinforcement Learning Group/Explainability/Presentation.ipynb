{
 "cells": [
  {
   "cell_type": "markdown",
   "metadata": {
    "slideshow": {
     "slide_type": "slide"
    }
   },
   "source": [
    "![](Hello.gif)"
   ]
  },
  {
   "cell_type": "markdown",
   "metadata": {
    "slideshow": {
     "slide_type": "slide"
    }
   },
   "source": [
    "![](profilepicture.jpg)"
   ]
  },
  {
   "cell_type": "markdown",
   "metadata": {
    "slideshow": {
     "slide_type": "slide"
    }
   },
   "source": [
    "# WHAT"
   ]
  },
  {
   "cell_type": "markdown",
   "metadata": {
    "slideshow": {
     "slide_type": "slide"
    }
   },
   "source": [
    "![](interpretability-vs-accuracy.png)  \n",
    "[__Source:__ https://www.incubegroup.com/blog/explainability-of-ai-models/](https://www.incubegroup.com/blog/explainability-of-ai-models/)"
   ]
  },
  {
   "cell_type": "markdown",
   "metadata": {
    "slideshow": {
     "slide_type": "slide"
    }
   },
   "source": [
    "# WHY"
   ]
  },
  {
   "cell_type": "markdown",
   "metadata": {
    "slideshow": {
     "slide_type": "slide"
    }
   },
   "source": [
    "1. Debugging\n",
    "2. Feature Engineering\n",
    "3. Directing Future Data Collection\n",
    "4. Informing Human Decision-Making and Organizational Strategy\n",
    "5. User Trust and Buy-in  \n",
    "6. Driving Apprenticeship Learning"
   ]
  },
  {
   "cell_type": "code",
   "execution_count": 18,
   "metadata": {
    "slideshow": {
     "slide_type": "fragment"
    }
   },
   "outputs": [
    {
     "data": {
      "text/html": [
       "\n",
       "        <iframe\n",
       "            width=\"100%\"\n",
       "            height=\"232\"\n",
       "            src=\"https://open.spotify.com/embed-podcast/episode/69llY6Ekk2D7i8Oj8lF77q\"\n",
       "            frameborder=\"0\"\n",
       "            allowfullscreen\n",
       "        ></iframe>\n",
       "        "
      ],
      "text/plain": [
       "<IPython.lib.display.IFrame at 0x7ff29060a080>"
      ]
     },
     "execution_count": 18,
     "metadata": {},
     "output_type": "execute_result"
    }
   ],
   "source": [
    "# Randy Goebel from Albert: Explainability in RL\n",
    "from IPython.lib.display import IFrame\n",
    "IFrame(\"https://open.spotify.com/embed-podcast/episode/69llY6Ekk2D7i8Oj8lF77q\", width=\"100%\", height=\"232\")"
   ]
  },
  {
   "cell_type": "markdown",
   "metadata": {
    "slideshow": {
     "slide_type": "slide"
    }
   },
   "source": [
    "7. Regularatory requirements  \n",
    "8. Algorithmic bias  \n",
    "9. Directing customer behaviour  \n",
    "10. Model drift"
   ]
  },
  {
   "cell_type": "code",
   "execution_count": 23,
   "metadata": {
    "slideshow": {
     "slide_type": "fragment"
    }
   },
   "outputs": [
    {
     "data": {
      "text/html": [
       "\n",
       "        <iframe\n",
       "            width=\"100%\"\n",
       "            height=\"400\"\n",
       "            src=\"https://www.zestfinance.com/blog/topic/explainability\"\n",
       "            frameborder=\"0\"\n",
       "            allowfullscreen\n",
       "        ></iframe>\n",
       "        "
      ],
      "text/plain": [
       "<IPython.lib.display.IFrame at 0x7ff29061bac8>"
      ]
     },
     "execution_count": 23,
     "metadata": {},
     "output_type": "execute_result"
    }
   ],
   "source": [
    "from IPython.lib.display import IFrame\n",
    "IFrame(\"https://www.zestfinance.com/blog/topic/explainability\", width=\"100%\", height=\"400\")"
   ]
  },
  {
   "cell_type": "markdown",
   "metadata": {
    "slideshow": {
     "slide_type": "slide"
    }
   },
   "source": [
    "# APPROACHES"
   ]
  },
  {
   "cell_type": "markdown",
   "metadata": {
    "slideshow": {
     "slide_type": "slide"
    }
   },
   "source": [
    "### ROAR: Remove one and retrain (Permutation Importance)"
   ]
  },
  {
   "cell_type": "markdown",
   "metadata": {
    "slideshow": {
     "slide_type": "fragment"
    }
   },
   "source": [
    "Hooker, S., Erhan, D., Kindermans, P.J. and Kim, B., 2018. Evaluating feature importance estimates. arXiv preprint arXiv:1806.10758.  \n",
    "__Cited by 10__"
   ]
  },
  {
   "cell_type": "code",
   "execution_count": 24,
   "metadata": {
    "slideshow": {
     "slide_type": "fragment"
    }
   },
   "outputs": [
    {
     "data": {
      "text/html": [
       "\n",
       "        <iframe\n",
       "            width=\"100%\"\n",
       "            height=\"232\"\n",
       "            src=\"https://open.spotify.com/embed-podcast/episode/4NUN3kg2TsneAZ8c7SLyGZ\"\n",
       "            frameborder=\"0\"\n",
       "            allowfullscreen\n",
       "        ></iframe>\n",
       "        "
      ],
      "text/plain": [
       "<IPython.lib.display.IFrame at 0x7ff29061bba8>"
      ]
     },
     "execution_count": 24,
     "metadata": {},
     "output_type": "execute_result"
    }
   ],
   "source": [
    "# Paper compares methods,  issues of benchmarking explainability performance\n",
    "from IPython.lib.display import IFrame\n",
    "IFrame(\"https://open.spotify.com/embed-podcast/episode/4NUN3kg2TsneAZ8c7SLyGZ\", width=\"100%\", height=\"232\")"
   ]
  },
  {
   "cell_type": "markdown",
   "metadata": {
    "slideshow": {
     "slide_type": "slide"
    }
   },
   "source": [
    "### Surrogate Model [xspliner]"
   ]
  },
  {
   "cell_type": "code",
   "execution_count": 19,
   "metadata": {
    "slideshow": {
     "slide_type": "fragment"
    }
   },
   "outputs": [
    {
     "data": {
      "text/html": [
       " '<!-- Place this tag in your head or just before your close body tag. --> \n",
       "<script async defer src='https://buttons.github.io/buttons.js'></script>\n",
       "<!-- Place this tag where you want the button to render. -->\n",
       "<a class='github-button' href='https://github.com/ModelOriented/xspliner/subscription' \n",
       "data-icon='octicon-eye' data-show-count='true' \n",
       "aria-label='Watch ModelOriented/xspliner on GitHub'>Watch</a>"
      ],
      "text/plain": [
       "<IPython.core.display.HTML object>"
      ]
     },
     "execution_count": 19,
     "metadata": {},
     "output_type": "execute_result"
    }
   ],
   "source": [
    "from IPython.display import HTML\n",
    "\n",
    "HTML(\"\"\" '<!-- Place this tag in your head or just before your close body tag. --> \n",
    "<script async defer src='https://buttons.github.io/buttons.js'></script>\n",
    "<!-- Place this tag where you want the button to render. -->\n",
    "<a class='github-button' href='https://github.com/ModelOriented/xspliner/subscription' \n",
    "data-icon='octicon-eye' data-show-count='true' \n",
    "aria-label='Watch ModelOriented/xspliner on GitHub'>Watch</a>\"\"\"\n",
    ")"
   ]
  },
  {
   "cell_type": "markdown",
   "metadata": {
    "slideshow": {
     "slide_type": "slide"
    }
   },
   "source": [
    "![](xspliner.png)"
   ]
  },
  {
   "cell_type": "markdown",
   "metadata": {
    "slideshow": {
     "slide_type": "slide"
    }
   },
   "source": [
    "### LIME: Locally Explainable Model Agnostic Explanations"
   ]
  },
  {
   "cell_type": "code",
   "execution_count": 6,
   "metadata": {
    "slideshow": {
     "slide_type": "fragment"
    }
   },
   "outputs": [
    {
     "data": {
      "text/html": [
       " '<!-- Place this tag in your head or just before your close body tag. --> \n",
       "<script async defer src='https://buttons.github.io/buttons.js'></script>\n",
       "<!-- Place this tag where you want the button to render. -->\n",
       "<a class='github-button' href='https://github.com/marcotcr/lime/subscription' \n",
       "data-icon='octicon-eye' data-show-count='true' \n",
       "aria-label='Watch marcotcr/lime on GitHub'>Watch</a>"
      ],
      "text/plain": [
       "<IPython.core.display.HTML object>"
      ]
     },
     "execution_count": 6,
     "metadata": {},
     "output_type": "execute_result"
    }
   ],
   "source": [
    "from IPython.display import HTML\n",
    "\n",
    "HTML(\"\"\" '<!-- Place this tag in your head or just before your close body tag. --> \n",
    "<script async defer src='https://buttons.github.io/buttons.js'></script>\n",
    "<!-- Place this tag where you want the button to render. -->\n",
    "<a class='github-button' href='https://github.com/marcotcr/lime/subscription' \n",
    "data-icon='octicon-eye' data-show-count='true' \n",
    "aria-label='Watch marcotcr/lime on GitHub'>Watch</a>\"\"\"\n",
    ")"
   ]
  },
  {
   "cell_type": "markdown",
   "metadata": {
    "slideshow": {
     "slide_type": "fragment"
    }
   },
   "source": [
    "Ribeiro, M.T., Singh, S. and Guestrin, C., 2016, August. Why should i trust you?: Explaining the predictions of any classifier. In Proceedings of the 22nd ACM SIGKDD international conference on knowledge discovery and data mining (pp. 1135-1144). ACM.  \n",
    "__Cited by 1646__  "
   ]
  },
  {
   "cell_type": "markdown",
   "metadata": {
    "slideshow": {
     "slide_type": "slide"
    }
   },
   "source": [
    "Lime Equation  \n",
    "![](LIME_model.png)"
   ]
  },
  {
   "cell_type": "markdown",
   "metadata": {
    "slideshow": {
     "slide_type": "slide"
    }
   },
   "source": [
    "LIME Algorithm  \n",
    "![](LIME_algorithm.png)"
   ]
  },
  {
   "cell_type": "code",
   "execution_count": 3,
   "metadata": {
    "slideshow": {
     "slide_type": "slide"
    }
   },
   "outputs": [
    {
     "data": {
      "text/html": [
       "\n",
       "        <iframe\n",
       "            width=\"100%\"\n",
       "            height=\"232\"\n",
       "            src=\"https://open.spotify.com/embed-podcast/episode/4mZ6KuLGnyV7ytg031tMj3\"\n",
       "            frameborder=\"0\"\n",
       "            allowfullscreen\n",
       "        ></iframe>\n",
       "        "
      ],
      "text/plain": [
       "<IPython.lib.display.IFrame at 0x7ff29066c358>"
      ]
     },
     "execution_count": 3,
     "metadata": {},
     "output_type": "execute_result"
    }
   ],
   "source": [
    "# Original author early in release\n",
    "from IPython.lib.display import IFrame\n",
    "IFrame('https://open.spotify.com/embed-podcast/episode/4mZ6KuLGnyV7ytg031tMj3', width=\"100%\", height=\"232\")"
   ]
  },
  {
   "cell_type": "markdown",
   "metadata": {
    "slideshow": {
     "slide_type": "slide"
    }
   },
   "source": [
    "### SHAP: SHapley Additive exPlanations"
   ]
  },
  {
   "cell_type": "code",
   "execution_count": 7,
   "metadata": {
    "slideshow": {
     "slide_type": "fragment"
    }
   },
   "outputs": [
    {
     "data": {
      "text/html": [
       " '<!-- Place this tag in your head or just before your close body tag. --> \n",
       "<script async defer src='https://buttons.github.io/buttons.js'></script>\n",
       "<!-- Place this tag where you want the button to render. -->\n",
       "<a class='github-button' href='https://github.com/slundberg/shap/subscription' \n",
       "data-icon='octicon-eye' data-show-count='true' \n",
       "aria-label='Watch slundberg/shap on GitHub'>Watch</a>"
      ],
      "text/plain": [
       "<IPython.core.display.HTML object>"
      ]
     },
     "execution_count": 7,
     "metadata": {},
     "output_type": "execute_result"
    }
   ],
   "source": [
    "from IPython.display import HTML\n",
    "\n",
    "HTML(\"\"\" '<!-- Place this tag in your head or just before your close body tag. --> \n",
    "<script async defer src='https://buttons.github.io/buttons.js'></script>\n",
    "<!-- Place this tag where you want the button to render. -->\n",
    "<a class='github-button' href='https://github.com/slundberg/shap/subscription' \n",
    "data-icon='octicon-eye' data-show-count='true' \n",
    "aria-label='Watch slundberg/shap on GitHub'>Watch</a>\"\"\"\n",
    ")"
   ]
  },
  {
   "cell_type": "markdown",
   "metadata": {
    "slideshow": {
     "slide_type": "fragment"
    }
   },
   "source": [
    "Shapley, L.S., 1953. A value for n-person games. Contributions to the Theory of Games, 2(28), pp.307-317.  \n",
    "__Cited by 7624__  \n",
    "\n",
    "Lundberg, S.M. and Lee, S.I., 2017. A unified approach to interpreting model predictions. In Advances in Neural Information Processing Systems (pp. 4765-4774).\n",
    "  \n",
    "__Cited by 313__"
   ]
  },
  {
   "cell_type": "markdown",
   "metadata": {
    "slideshow": {
     "slide_type": "slide"
    }
   },
   "source": [
    "SHAP Properties  \n",
    "![](SHAP_properties.png)"
   ]
  },
  {
   "cell_type": "markdown",
   "metadata": {
    "slideshow": {
     "slide_type": "slide"
    }
   },
   "source": [
    "Classical Shapely Value Computation  \n",
    "![](classic_SHAP.png)"
   ]
  },
  {
   "cell_type": "markdown",
   "metadata": {
    "slideshow": {
     "slide_type": "slide"
    }
   },
   "source": [
    "Shap Kernel  \n",
    "![](SHAP_kernel.png)"
   ]
  },
  {
   "cell_type": "code",
   "execution_count": 20,
   "metadata": {
    "slideshow": {
     "slide_type": "slide"
    }
   },
   "outputs": [
    {
     "data": {
      "image/jpeg": "[encoded data removed]",
      "text/html": [
       "\n",
       "        <iframe\n",
       "            width=\"400\"\n",
       "            height=\"300\"\n",
       "            src=\"https://www.youtube.com/embed/B-c8tIgchu0\"\n",
       "            frameborder=\"0\"\n",
       "            allowfullscreen\n",
       "        ></iframe>\n",
       "        "
      ],
      "text/plain": [
       "<IPython.lib.display.YouTubeVideo at 0x7ff29060a240>"
      ]
     },
     "execution_count": 20,
     "metadata": {},
     "output_type": "execute_result"
    }
   ],
   "source": [
    "# Original author applications driven\n",
    "from IPython.lib.display import YouTubeVideo\n",
    "YouTubeVideo('B-c8tIgchu0')"
   ]
  },
  {
   "cell_type": "markdown",
   "metadata": {
    "slideshow": {
     "slide_type": "slide"
    }
   },
   "source": [
    "### Gradient Methods"
   ]
  },
  {
   "cell_type": "code",
   "execution_count": 21,
   "metadata": {
    "slideshow": {
     "slide_type": "fragment"
    }
   },
   "outputs": [
    {
     "data": {
      "text/html": [
       " '<!-- Place this tag in your head or just before your close body tag. --> \n",
       "<script async defer src='https://buttons.github.io/buttons.js'></script>\n",
       "<!-- Place this tag where you want the button to render. -->\n",
       "<a class='github-button' href='https://github.com/ankurtaly/Integrated-Gradients/subscription' \n",
       "data-icon='octicon-eye' data-show-count='true' \n",
       "aria-label='Watch ankurtaly/Integrated-Gradients on GitHub'>Watch</a>"
      ],
      "text/plain": [
       "<IPython.core.display.HTML object>"
      ]
     },
     "execution_count": 21,
     "metadata": {},
     "output_type": "execute_result"
    }
   ],
   "source": [
    "from IPython.display import HTML\n",
    "\n",
    "HTML(\"\"\" '<!-- Place this tag in your head or just before your close body tag. --> \n",
    "<script async defer src='https://buttons.github.io/buttons.js'></script>\n",
    "<!-- Place this tag where you want the button to render. -->\n",
    "<a class='github-button' href='https://github.com/ankurtaly/Integrated-Gradients/subscription' \n",
    "data-icon='octicon-eye' data-show-count='true' \n",
    "aria-label='Watch ankurtaly/Integrated-Gradients on GitHub'>Watch</a>\"\"\"\n",
    ")"
   ]
  },
  {
   "cell_type": "markdown",
   "metadata": {
    "slideshow": {
     "slide_type": "fragment"
    }
   },
   "source": [
    "Sundararajan, M., Taly, A. and Yan, Q., 2017, August. Axiomatic attribution for deep networks. In Proceedings of the 34th International Conference on Machine Learning-Volume 70 (pp. 3319-3328). JMLR. org.  \n",
    "__Cited by 298__  "
   ]
  },
  {
   "cell_type": "markdown",
   "metadata": {
    "slideshow": {
     "slide_type": "slide"
    }
   },
   "source": [
    "### Comparisions"
   ]
  },
  {
   "cell_type": "code",
   "execution_count": 16,
   "metadata": {
    "slideshow": {
     "slide_type": "fragment"
    }
   },
   "outputs": [
    {
     "data": {
      "text/html": [
       "\n",
       "        <iframe\n",
       "            width=\"100%\"\n",
       "            height=\"350\"\n",
       "            src=\"https://blog.fiddler.ai/2019/08/should-you-explain-your-predictions-with-shap-or-ig/\"\n",
       "            frameborder=\"0\"\n",
       "            allowfullscreen\n",
       "        ></iframe>\n",
       "        "
      ],
      "text/plain": [
       "<IPython.lib.display.IFrame at 0x7ff29066ce80>"
      ]
     },
     "execution_count": 16,
     "metadata": {},
     "output_type": "execute_result"
    }
   ],
   "source": [
    "from IPython.lib.display import IFrame\n",
    "IFrame(\"https://blog.fiddler.ai/2019/08/should-you-explain-your-predictions-with-shap-or-ig/\", width=\"100%\", height=\"350\")"
   ]
  },
  {
   "cell_type": "markdown",
   "metadata": {
    "slideshow": {
     "slide_type": "slide"
    }
   },
   "source": [
    "### Ensembles"
   ]
  },
  {
   "cell_type": "code",
   "execution_count": 1,
   "metadata": {
    "slideshow": {
     "slide_type": "fragment"
    }
   },
   "outputs": [
    {
     "data": {
      "text/html": [
       "\n",
       "        <iframe\n",
       "            width=\"100%\"\n",
       "            height=\"232\"\n",
       "            src=\"https://open.spotify.com/embed-podcast/episode/6wfAuSfIdvUUTtBf0fh393\"\n",
       "            frameborder=\"0\"\n",
       "            allowfullscreen\n",
       "        ></iframe>\n",
       "        "
      ],
      "text/plain": [
       "<IPython.lib.display.IFrame at 0x7f2310e65dd8>"
      ]
     },
     "execution_count": 1,
     "metadata": {},
     "output_type": "execute_result"
    }
   ],
   "source": [
    "#Data Science for Social Good: Police Trainings\n",
    "from IPython.lib.display import IFrame\n",
    "IFrame(\"https://open.spotify.com/embed-podcast/episode/6wfAuSfIdvUUTtBf0fh393\", width=\"100%\", height=\"232\")"
   ]
  },
  {
   "cell_type": "markdown",
   "metadata": {
    "slideshow": {
     "slide_type": "slide"
    }
   },
   "source": [
    "# RESOURCES"
   ]
  },
  {
   "cell_type": "markdown",
   "metadata": {
    "slideshow": {
     "slide_type": "slide"
    }
   },
   "source": [
    "### Tutorials"
   ]
  },
  {
   "cell_type": "markdown",
   "metadata": {
    "slideshow": {
     "slide_type": "fragment"
    }
   },
   "source": [
    "__[Kaggle Lesson](https://www.kaggle.com/learn/machine-learning-explainability)__  \n",
    "![](kaggle.png)"
   ]
  }
 ],
 "metadata": {
  "celltoolbar": "Slideshow",
  "hide_input": false,
  "kernelspec": {
   "display_name": "Python 3",
   "language": "python",
   "name": "python3"
  },
  "language_info": {
   "codemirror_mode": {
    "name": "ipython",
    "version": 3
   },
   "file_extension": ".py",
   "mimetype": "text/x-python",
   "name": "python",
   "nbconvert_exporter": "python",
   "pygments_lexer": "ipython3",
   "version": "3.7.0"
  }
 },
 "nbformat": 4,
 "nbformat_minor": 4
}
