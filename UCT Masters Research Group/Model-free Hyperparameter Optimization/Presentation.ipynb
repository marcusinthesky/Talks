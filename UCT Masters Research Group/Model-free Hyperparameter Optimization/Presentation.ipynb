{
 "cells": [
  {
   "cell_type": "markdown",
   "metadata": {
    "slideshow": {
     "slide_type": "slide"
    }
   },
   "source": [
    "<img src='Hello.gif' alt=\"drawing\" style=\"width:600px;\"/>"
   ]
  },
  {
   "cell_type": "markdown",
   "metadata": {
    "slideshow": {
     "slide_type": "slide"
    }
   },
   "source": [
    "# IDEA"
   ]
  },
  {
   "cell_type": "markdown",
   "metadata": {
    "slideshow": {
     "slide_type": "slide"
    }
   },
   "source": [
    "Multi-objective Optimization over AutoML"
   ]
  },
  {
   "cell_type": "markdown",
   "metadata": {
    "slideshow": {
     "slide_type": "slide"
    }
   },
   "source": [
    "# PROBLEM"
   ]
  },
  {
   "cell_type": "markdown",
   "metadata": {
    "slideshow": {
     "slide_type": "slide"
    }
   },
   "source": [
    "| Example              | Correctness (Bias-Variance) | Confidence | Explainability |  \n",
    "|----------------------|-------------|------------|----------------|  \n",
    "| Siri                 | High        | Low        | Low            |  \n",
    "| Stock Prices         | High        | High       | Low            |  \n",
    "| Macroeconomic Models | Low         | High       | High           |  \n",
    "| Medical Imaging      | High        | High       | High           |  \n",
    "  "
   ]
  },
  {
   "cell_type": "markdown",
   "metadata": {
    "slideshow": {
     "slide_type": "slide"
    }
   },
   "source": [
    "| Scenario        |          Method         | Cheap          | Scallable |  \n",
    "|-----------------|-------------------------|----------------|-----------|  \n",
    "| Embedded System | Least-square Regression | Yes            | No        |  \n",
    "| Large cluster   | Alex-net (Deep CNN's)   | No             | Yes       |  "
   ]
  },
  {
   "cell_type": "markdown",
   "metadata": {
    "slideshow": {
     "slide_type": "slide"
    }
   },
   "source": [
    "- __Accuracy__\n",
    "- Reliability in Production\n",
    "    - Changes in data\n",
    "    - Random initializations\n",
    "- Size and complexity\n",
    "    - Interprettability\n",
    "    - Federated Learning\n",
    "    - Edge Applications\n",
    "    - Serving accross cluster\n",
    "- Cost\n",
    "    - Time\n",
    "    - Cloud credits"
   ]
  },
  {
   "cell_type": "markdown",
   "metadata": {
    "slideshow": {
     "slide_type": "slide"
    }
   },
   "source": [
    "$$\\large{ \\textbf{AutoML} }$$  \n",
    "$$\\large{ \\cap}$$  \n",
    "$$\\large{ \\textbf{Iteractive Optimization} }$$  \n",
    "$$\\large{\\cap }$$  \n",
    "$$\\large{\\textbf{Multi-objective Optimization} }$$"
   ]
  },
  {
   "cell_type": "markdown",
   "metadata": {
    "slideshow": {
     "slide_type": "slide"
    }
   },
   "source": [
    "# Relevance\n",
    "__1. Genetic Algorithms for Deep Learning Architecture Search__  \n",
    "    Suganuma, M., Shirakawa, S. and Nagao, T., 2017, July. A genetic programming approach to designing convolutional neural network architectures. In Proceedings of the Genetic and Evolutionary Computation Conference (pp. 497-504). ACM.  \n",
    "    __Cited by 114__\n",
    "    \n",
    "[BLOG: Genetic Algorithm Deep Learning Search](dirtydata.co.za)\n",
    "    "
   ]
  },
  {
   "cell_type": "markdown",
   "metadata": {
    "slideshow": {
     "slide_type": "slide"
    }
   },
   "source": [
    "__2. Reinforcement Learning__\n",
    "![](bsuite.png)"
   ]
  },
  {
   "cell_type": "code",
   "execution_count": 1,
   "metadata": {
    "slideshow": {
     "slide_type": "fragment"
    }
   },
   "outputs": [
    {
     "data": {
      "text/html": [
       " '<!-- Place this tag in your head or just before your close body tag. --> \n",
       "<script async defer src='https://buttons.github.io/buttons.js'></script>\n",
       "<!-- Place this tag where you want the button to render. -->\n",
       "<a class='github-button' href='https://github.com/deepmind/bsuite/subscription' \n",
       "data-icon='octicon-eye' data-show-count='true' \n",
       "aria-label='Watch deepmind/bsuite on GitHub'>Watch</a>"
      ],
      "text/plain": [
       "<IPython.core.display.HTML object>"
      ]
     },
     "execution_count": 1,
     "metadata": {},
     "output_type": "execute_result"
    }
   ],
   "source": [
    "from IPython.display import HTML\n",
    "\n",
    "HTML(\"\"\" '<!-- Place this tag in your head or just before your close body tag. --> \n",
    "<script async defer src='https://buttons.github.io/buttons.js'></script>\n",
    "<!-- Place this tag where you want the button to render. -->\n",
    "<a class='github-button' href='https://github.com/deepmind/bsuite/subscription' \n",
    "data-icon='octicon-eye' data-show-count='true' \n",
    "aria-label='Watch deepmind/bsuite on GitHub'>Watch</a>\"\"\"\n",
    ")"
   ]
  },
  {
   "cell_type": "markdown",
   "metadata": {
    "slideshow": {
     "slide_type": "slide"
    }
   },
   "source": [
    "## HYPERPARAMETER OPTIMIZATION"
   ]
  },
  {
   "cell_type": "markdown",
   "metadata": {
    "slideshow": {
     "slide_type": "slide"
    }
   },
   "source": [
    "### Papers"
   ]
  },
  {
   "cell_type": "markdown",
   "metadata": {
    "slideshow": {
     "slide_type": "slide"
    }
   },
   "source": [
    "Li, L., Jamieson, K., DeSalvo, G., Rostamizadeh, A. and Talwalkar, A., 2016. Hyperband: A novel bandit-based approach to hyperparameter optimization. arXiv preprint arXiv:1603.06560.  \n",
    "__Cited by 246__  \n",
    "  "
   ]
  },
  {
   "cell_type": "code",
   "execution_count": 23,
   "metadata": {
    "slideshow": {
     "slide_type": "fragment"
    }
   },
   "outputs": [
    {
     "data": {
      "text/html": [
       " '<!-- Place this tag in your head or just before your close body tag. --> \n",
       "<script async defer src='https://buttons.github.io/buttons.js'></script>\n",
       "<!-- Place this tag where you want the button to render. -->\n",
       "<a class='github-button' href='https://github.com/sdask/dask-ml/subscription' \n",
       "data-icon='octicon-eye' data-show-count='true' \n",
       "aria-label='Watch dask/dask-ml on GitHub'>Watch</a>"
      ],
      "text/plain": [
       "<IPython.core.display.HTML object>"
      ]
     },
     "execution_count": 23,
     "metadata": {},
     "output_type": "execute_result"
    }
   ],
   "source": [
    "from IPython.display import HTML\n",
    "\n",
    "HTML(\"\"\" '<!-- Place this tag in your head or just before your close body tag. --> \n",
    "<script async defer src='https://buttons.github.io/buttons.js'></script>\n",
    "<!-- Place this tag where you want the button to render. -->\n",
    "<a class='github-button' href='https://github.com/sdask/dask-ml/subscription' \n",
    "data-icon='octicon-eye' data-show-count='true' \n",
    "aria-label='Watch dask/dask-ml on GitHub'>Watch</a>\"\"\"\n",
    ")"
   ]
  },
  {
   "cell_type": "code",
   "execution_count": 11,
   "metadata": {
    "slideshow": {
     "slide_type": "fragment"
    }
   },
   "outputs": [
    {
     "data": {
      "text/html": [
       "\n",
       "        <iframe\n",
       "            width=\"400\"\n",
       "            height=\"300\"\n",
       "            src=\"https://www.youtube.com/embed/x67K9FiPFBQ\"\n",
       "            frameborder=\"0\"\n",
       "            allowfullscreen\n",
       "        ></iframe>\n",
       "        "
      ],
      "text/plain": [
       "<IPython.lib.display.YouTubeVideo at 0x7fb836f28f98>"
      ]
     },
     "execution_count": 11,
     "metadata": {},
     "output_type": "execute_result"
    }
   ],
   "source": [
    "from IPython.lib.display import YouTubeVideo\n",
    "YouTubeVideo('x67K9FiPFBQ')"
   ]
  },
  {
   "cell_type": "markdown",
   "metadata": {
    "slideshow": {
     "slide_type": "slide"
    }
   },
   "source": [
    "$$+$$\n",
    "  "
   ]
  },
  {
   "cell_type": "markdown",
   "metadata": {
    "slideshow": {
     "slide_type": "slide"
    }
   },
   "source": [
    "Swersky, K., Snoek, J. and Adams, R.P., 2013. Multi-task bayesian optimization. In Advances in neural information processing systems (pp. 2004-2012).  \n",
    "__Cited by 269__  \n",
    "  "
   ]
  },
  {
   "cell_type": "code",
   "execution_count": 21,
   "metadata": {
    "slideshow": {
     "slide_type": "fragment"
    }
   },
   "outputs": [
    {
     "data": {
      "text/html": [
       " '<!-- Place this tag in your head or just before your close body tag. --> \n",
       "<script async defer src='https://buttons.github.io/buttons.js'></script>\n",
       "<!-- Place this tag where you want the button to render. -->\n",
       "<a class='github-button' href='https://github.com/scikit-optimize/scikit-optimize/subscription' \n",
       "data-icon='octicon-eye' data-show-count='true' \n",
       "aria-label='Watch scikit-optimize/scikit-optimize on GitHub'>Watch</a>"
      ],
      "text/plain": [
       "<IPython.core.display.HTML object>"
      ]
     },
     "execution_count": 21,
     "metadata": {},
     "output_type": "execute_result"
    }
   ],
   "source": [
    "from IPython.display import HTML\n",
    "\n",
    "HTML(\"\"\" '<!-- Place this tag in your head or just before your close body tag. --> \n",
    "<script async defer src='https://buttons.github.io/buttons.js'></script>\n",
    "<!-- Place this tag where you want the button to render. -->\n",
    "<a class='github-button' href='https://github.com/scikit-optimize/scikit-optimize/subscription' \n",
    "data-icon='octicon-eye' data-show-count='true' \n",
    "aria-label='Watch scikit-optimize/scikit-optimize on GitHub'>Watch</a>\"\"\"\n",
    ")"
   ]
  },
  {
   "cell_type": "code",
   "execution_count": 12,
   "metadata": {
    "slideshow": {
     "slide_type": "fragment"
    }
   },
   "outputs": [
    {
     "data": {
      "text/html": [
       "\n",
       "        <iframe\n",
       "            width=\"400\"\n",
       "            height=\"300\"\n",
       "            src=\"https://www.youtube.com/embed/jtRPxRnOXnk\"\n",
       "            frameborder=\"0\"\n",
       "            allowfullscreen\n",
       "        ></iframe>\n",
       "        "
      ],
      "text/plain": [
       "<IPython.lib.display.YouTubeVideo at 0x7fb836f33390>"
      ]
     },
     "execution_count": 12,
     "metadata": {},
     "output_type": "execute_result"
    }
   ],
   "source": [
    "from IPython.lib.display import YouTubeVideo\n",
    "YouTubeVideo('jtRPxRnOXnk')"
   ]
  },
  {
   "cell_type": "code",
   "execution_count": 9,
   "metadata": {
    "slideshow": {
     "slide_type": "slide"
    }
   },
   "outputs": [
    {
     "data": {
      "text/html": [
       "\n",
       "        <iframe\n",
       "            width=\"100%\"\n",
       "            height=\"232\"\n",
       "            src=\"https://open.spotify.com/embed-podcast/episode/4hodYBMVlD1xqXi6iPfl5Y\"\n",
       "            frameborder=\"0\"\n",
       "            allowfullscreen\n",
       "        ></iframe>\n",
       "        "
      ],
      "text/plain": [
       "<IPython.lib.display.IFrame at 0x7fb836f28860>"
      ]
     },
     "execution_count": 9,
     "metadata": {},
     "output_type": "execute_result"
    }
   ],
   "source": [
    "from IPython.lib.display import IFrame\n",
    "IFrame('https://open.spotify.com/embed-podcast/episode/4hodYBMVlD1xqXi6iPfl5Y', width=\"100%\", height=\"232\")"
   ]
  },
  {
   "cell_type": "markdown",
   "metadata": {
    "slideshow": {
     "slide_type": "slide"
    }
   },
   "source": [
    "$$=$$  "
   ]
  },
  {
   "cell_type": "markdown",
   "metadata": {
    "slideshow": {
     "slide_type": "slide"
    }
   },
   "source": [
    "Falkner, S., Klein, A. and Hutter, F., 2018. BOHB: Robust and efficient hyperparameter optimization at scale. arXiv preprint arXiv:1807.01774.  \n",
    "__Cited by 44__"
   ]
  },
  {
   "cell_type": "code",
   "execution_count": 19,
   "metadata": {
    "slideshow": {
     "slide_type": "fragment"
    }
   },
   "outputs": [
    {
     "data": {
      "text/html": [
       " '<!-- Place this tag in your head or just before your close body tag. --> \n",
       "<script async defer src='https://buttons.github.io/buttons.js'></script>\n",
       "<!-- Place this tag where you want the button to render. -->\n",
       "<a class='github-button' href='https://github.com/automl/HpBandSter/subscription' \n",
       "data-icon='octicon-eye' data-show-count='true' \n",
       "aria-label='Watch automl/HpBandSter on GitHub'>Watch</a>"
      ],
      "text/plain": [
       "<IPython.core.display.HTML object>"
      ]
     },
     "execution_count": 19,
     "metadata": {},
     "output_type": "execute_result"
    }
   ],
   "source": [
    "from IPython.display import HTML\n",
    "\n",
    "HTML(\"\"\" '<!-- Place this tag in your head or just before your close body tag. --> \n",
    "<script async defer src='https://buttons.github.io/buttons.js'></script>\n",
    "<!-- Place this tag where you want the button to render. -->\n",
    "<a class='github-button' href='https://github.com/automl/HpBandSter/subscription' \n",
    "data-icon='octicon-eye' data-show-count='true' \n",
    "aria-label='Watch automl/HpBandSter on GitHub'>Watch</a>\"\"\"\n",
    ")"
   ]
  },
  {
   "cell_type": "code",
   "execution_count": 10,
   "metadata": {
    "slideshow": {
     "slide_type": "fragment"
    }
   },
   "outputs": [
    {
     "data": {
      "text/html": [
       "\n",
       "        <iframe\n",
       "            width=\"400\"\n",
       "            height=\"300\"\n",
       "            src=\"https://www.youtube.com/embed/IqQT8se9ofQ\"\n",
       "            frameborder=\"0\"\n",
       "            allowfullscreen\n",
       "        ></iframe>\n",
       "        "
      ],
      "text/plain": [
       "<IPython.lib.display.YouTubeVideo at 0x7fb836f28a58>"
      ]
     },
     "execution_count": 10,
     "metadata": {},
     "output_type": "execute_result"
    }
   ],
   "source": [
    "from IPython.lib.display import YouTubeVideo\n",
    "YouTubeVideo('IqQT8se9ofQ')"
   ]
  },
  {
   "cell_type": "markdown",
   "metadata": {
    "slideshow": {
     "slide_type": "slide"
    }
   },
   "source": [
    "![](BHOB_performance.png)"
   ]
  },
  {
   "cell_type": "markdown",
   "metadata": {
    "slideshow": {
     "slide_type": "slide"
    }
   },
   "source": [
    "### Take away\n",
    "_\"[...] using so-called low fidelity approximations of the actual loss function to minimize. These approximations introduce a tradeoff between optimization performance and runtime [that] often outweigh the approximation error.\"_ - Feurer, M. and Hutter, F., 2019. Hyperparameter optimization. In Automated Machine Learning (pp. 3-33). Springer, Cham.  \n",
    "\n"
   ]
  },
  {
   "cell_type": "markdown",
   "metadata": {
    "slideshow": {
     "slide_type": "slide"
    }
   },
   "source": [
    "# AUTOML"
   ]
  },
  {
   "cell_type": "markdown",
   "metadata": {
    "slideshow": {
     "slide_type": "slide"
    }
   },
   "source": [
    "### Papers"
   ]
  },
  {
   "cell_type": "markdown",
   "metadata": {
    "slideshow": {
     "slide_type": "slide"
    }
   },
   "source": [
    "<!---One approach for handling arbitrary-sized pipelines more natively is the\n",
    "tree-structured pipeline optimization toolkit (TPOT [112], see also Chapter 8),\n",
    "which uses genetic programming and describes possible pipelines by a grammar.\n",
    "TPOT uses multi-objective optimization to trade off pipeline complexity with\n",
    "performance to avoid generating unnecessarily complex pipelines.\n",
    "A different pipeline creation paradigm is the usage of hierarchical planning;\n",
    "the recent ML-Plan [105, 98] -->\n",
    "\n",
    "Olson, R.S., Bartley, N., Urbanowicz, R.J. and Moore, J.H., 2016, July. Evaluation of a tree-based pipeline optimization tool for automating data science. In Proceedings of the Genetic and Evolutionary Computation Conference 2016 (pp. 485-492). ACM.  \n",
    "__Cited by 102__  \n",
    "  "
   ]
  },
  {
   "cell_type": "code",
   "execution_count": 22,
   "metadata": {
    "slideshow": {
     "slide_type": "fragment"
    }
   },
   "outputs": [
    {
     "data": {
      "text/html": [
       " '<!-- Place this tag in your head or just before your close body tag. --> \n",
       "<script async defer src='https://buttons.github.io/buttons.js'></script>\n",
       "<!-- Place this tag where you want the button to render. -->\n",
       "<a class='github-button' href='https://github.com/automl/auto-sklearn/subscription' \n",
       "data-icon='octicon-eye' data-show-count='true' \n",
       "aria-label='Watch automl/auto-sklearn on GitHub'>Watch</a>"
      ],
      "text/plain": [
       "<IPython.core.display.HTML object>"
      ]
     },
     "execution_count": 22,
     "metadata": {},
     "output_type": "execute_result"
    }
   ],
   "source": [
    "from IPython.display import HTML\n",
    "\n",
    "HTML(\"\"\" '<!-- Place this tag in your head or just before your close body tag. --> \n",
    "<script async defer src='https://buttons.github.io/buttons.js'></script>\n",
    "<!-- Place this tag where you want the button to render. -->\n",
    "<a class='github-button' href='https://github.com/automl/auto-sklearn/subscription' \n",
    "data-icon='octicon-eye' data-show-count='true' \n",
    "aria-label='Watch automl/auto-sklearn on GitHub'>Watch</a>\"\"\"\n",
    ")"
   ]
  },
  {
   "cell_type": "code",
   "execution_count": 24,
   "metadata": {
    "slideshow": {
     "slide_type": "fragment"
    }
   },
   "outputs": [
    {
     "data": {
      "text/html": [
       "\n",
       "        <iframe\n",
       "            width=\"400\"\n",
       "            height=\"300\"\n",
       "            src=\"https://www.youtube.com/embed/QrJlj0VCHys\"\n",
       "            frameborder=\"0\"\n",
       "            allowfullscreen\n",
       "        ></iframe>\n",
       "        "
      ],
      "text/plain": [
       "<IPython.lib.display.YouTubeVideo at 0x7fb836885eb8>"
      ]
     },
     "execution_count": 24,
     "metadata": {},
     "output_type": "execute_result"
    }
   ],
   "source": [
    "from IPython.lib.display import YouTubeVideo\n",
    "YouTubeVideo('QrJlj0VCHys')"
   ]
  },
  {
   "cell_type": "markdown",
   "metadata": {
    "slideshow": {
     "slide_type": "slide"
    }
   },
   "source": [
    "$$ \\downarrow $$"
   ]
  },
  {
   "cell_type": "markdown",
   "metadata": {
    "slideshow": {
     "slide_type": "slide"
    }
   },
   "source": [
    "Mohr, F., Wever, M. and Hüllermeier, E., 2018. ML-Plan: Automated machine learning via hierarchical planning. Machine Learning, 107(8-10), pp.1495-1515.  \n",
    "__Cited by 14__"
   ]
  },
  {
   "cell_type": "markdown",
   "metadata": {
    "slideshow": {
     "slide_type": "slide"
    }
   },
   "source": [
    "# MULTIOBJECTIVE"
   ]
  },
  {
   "cell_type": "markdown",
   "metadata": {
    "slideshow": {
     "slide_type": "slide"
    }
   },
   "source": [
    "![](dea-payoffs.png)"
   ]
  },
  {
   "cell_type": "markdown",
   "metadata": {
    "slideshow": {
     "slide_type": "slide"
    }
   },
   "source": [
    "[BLOG: Choosing the Hotest Model!](dirtydata.co.za)\n",
    "\n",
    "DEA  \n",
    "$\\downarrow$  \n",
    "Hypothetical comparison units  \n",
    "$\\downarrow$  \n",
    "Choose most balanced | population\n",
    "\n",
    "![](dea-model.png)"
   ]
  },
  {
   "cell_type": "markdown",
   "metadata": {
    "slideshow": {
     "slide_type": "slide"
    }
   },
   "source": [
    "# HYPOTHESIS"
   ]
  },
  {
   "cell_type": "markdown",
   "metadata": {
    "slideshow": {
     "slide_type": "slide"
    }
   },
   "source": [
    "1. Constrained applications\n",
    "2. Genetic Diversity  \n",
    "3. Sparsity $\\rightarrow$ Performance (RELU / Dropout)"
   ]
  }
 ],
 "metadata": {
  "celltoolbar": "Slideshow",
  "hide_input": true,
  "kernelspec": {
   "display_name": "Python 3",
   "language": "python",
   "name": "python3"
  },
  "language_info": {
   "codemirror_mode": {
    "name": "ipython",
    "version": 3
   },
   "file_extension": ".py",
   "mimetype": "text/x-python",
   "name": "python",
   "nbconvert_exporter": "python",
   "pygments_lexer": "ipython3",
   "version": "3.7.0"
  }
 },
 "nbformat": 4,
 "nbformat_minor": 4
}
